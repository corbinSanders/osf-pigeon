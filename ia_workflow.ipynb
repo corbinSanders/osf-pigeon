import settings
from IA.IA_consume_files import consume_files
from IA.consume_logs import create_logs
from IA_upload import run_IA_upload

DIRECTORY = ''
GUID = ''
BUCKET = ''


consume_files(GUID, settings.OSF_BEARER_TOKEN, DIRECTORY)
create_logs(GUID, DIRECTORY, settings.PAGE_SIZE, settings.OSF_BEARER_TOKEN)

run_IA_upload(BUCKET, DIRECTORY)
